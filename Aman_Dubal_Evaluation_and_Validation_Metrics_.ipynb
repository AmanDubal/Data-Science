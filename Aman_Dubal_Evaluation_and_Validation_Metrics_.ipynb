{
  "nbformat": 4,
  "nbformat_minor": 0,
  "metadata": {
    "colab": {
      "provenance": []
    },
    "kernelspec": {
      "name": "python3",
      "display_name": "Python 3"
    },
    "language_info": {
      "name": "python"
    }
  },
  "cells": [
    {
      "cell_type": "markdown",
      "source": [
        "Using train_test_split and random state=42"
      ],
      "metadata": {
        "id": "xMYrNZe3eekr"
      }
    },
    {
      "cell_type": "code",
      "source": [
        "import numpy as np\n",
        "import pandas as pd\n",
        "from sklearn.linear_model import LinearRegression\n",
        "from sklearn.model_selection import train_test_split\n",
        "from sklearn.metrics import mean_squared_error\n",
        "\n",
        "import pandas as pd\n",
        "from sklearn.datasets import load_iris\n"
      ],
      "metadata": {
        "id": "i3AdW66PZJYa"
      },
      "execution_count": 79,
      "outputs": []
    },
    {
      "cell_type": "code",
      "execution_count": 80,
      "metadata": {
        "colab": {
          "base_uri": "https://localhost:8080/"
        },
        "id": "TnHutSiSjclS",
        "outputId": "81a1785d-1de0-47d6-b2f1-63cf2199a1a8"
      },
      "outputs": [
        {
          "output_type": "stream",
          "name": "stdout",
          "text": [
            "Average MSE: 0.03711379440797686\n"
          ]
        }
      ],
      "source": [
        "# Load the iris dataset\n",
        "data = load_iris()\n",
        "X = data.data\n",
        "y = data.target\n",
        "# Create a linear regression model\n",
        "model = LinearRegression()\n",
        "x_train,x_test,y_train,y_test=train_test_split(X,y,test_size=0.2,random_state=42)\n",
        "model.fit(x_train,y_train)\n",
        "y_preds=model.predict(x_test)\n",
        "print(\"Average MSE:\", mean_squared_error(y_test,y_preds))"
      ]
    },
    {
      "cell_type": "markdown",
      "source": [
        "Using train_test_split and random state=2"
      ],
      "metadata": {
        "id": "any9hez6eZx1"
      }
    },
    {
      "cell_type": "code",
      "source": [
        "import numpy as np\n",
        "import pandas as pd\n",
        "from sklearn.linear_model import LinearRegression\n",
        "from sklearn.model_selection import train_test_split\n",
        "from sklearn.metrics import mean_squared_error\n",
        "data = load_iris()\n",
        "X = data.data\n",
        "y = data.target\n",
        "# Create a linear regression model\n",
        "model = LinearRegression()\n",
        "x_train,x_test,y_train,y_test=train_test_split(X,y,test_size=0.2,random_state=2)\n",
        "model.fit(x_train,y_train)\n",
        "y_preds=model.predict(x_test)\n",
        "print(\"Average MSE:\", mean_squared_error(y_test,y_preds))\n"
      ],
      "metadata": {
        "id": "u4xIn-SqDOG2",
        "colab": {
          "base_uri": "https://localhost:8080/"
        },
        "outputId": "36e963e6-baa8-4e0e-efc1-6c46b9796bdd"
      },
      "execution_count": 81,
      "outputs": [
        {
          "output_type": "stream",
          "name": "stdout",
          "text": [
            "Average MSE: 0.04357359900463399\n"
          ]
        }
      ]
    },
    {
      "cell_type": "markdown",
      "source": [
        "Leave one-out cross validation"
      ],
      "metadata": {
        "id": "x_chCIxTen2L"
      }
    },
    {
      "cell_type": "code",
      "source": [
        "import pandas as pd\n",
        "import numpy as np\n",
        "from sklearn.linear_model import LinearRegression\n",
        "from sklearn.model_selection import LeaveOneOut, cross_val_score\n",
        "\n",
        "data = load_iris()\n",
        "X = data.data\n",
        "y = data.target\n",
        "# Create a linear regression model\n",
        "model = LinearRegression()\n",
        "# Create a LeaveOneOut cross-validator\n",
        "loo = LeaveOneOut()\n",
        "# Use cross_val_score for the dataset with the model and LOOCV\n",
        "# This will return the scores for each iteration of LOOCV\n",
        "scores = cross_val_score(model, X, y, cv=loo, scoring='neg_mean_squared_error')\n",
        "mse_scores = -scores # Invert the sign of the scores\n",
        "# Print the mean MSE over all LOOCV iterations\n",
        "print(\"Mean MSE:\", mse_scores.mean())"
      ],
      "metadata": {
        "colab": {
          "base_uri": "https://localhost:8080/"
        },
        "id": "X6RMPUD7eXKi",
        "outputId": "755cdca5-c020-4b7a-c234-a2bde29092ca"
      },
      "execution_count": 82,
      "outputs": [
        {
          "output_type": "stream",
          "name": "stdout",
          "text": [
            "Mean MSE: 0.04954185325184581\n"
          ]
        }
      ]
    },
    {
      "cell_type": "markdown",
      "source": [
        " Implementing K-fold cross validation"
      ],
      "metadata": {
        "id": "QYC-ExM5eyXj"
      }
    },
    {
      "cell_type": "code",
      "source": [
        "from sklearn.model_selection import cross_val_score\n",
        "from sklearn.linear_model import LinearRegression\n",
        "from sklearn.model_selection import KFold\n",
        "import pandas as pd\n",
        "\n",
        "data = load_iris()\n",
        "X = data.data\n",
        "y = data.target\n",
        "# Initialize a Linear Regression model\n",
        "model = LinearRegression()\n",
        "# Initialize the KFold parameters\n",
        "kfold = KFold(n_splits=10, shuffle=True, random_state=2)\n",
        "# Use cross_val_score on the model and dataset\n",
        "scores = cross_val_score(model, X, y, cv=kfold, scoring='r2')\n",
        "print(\"R2 scores for each fold:\", scores)\n",
        "print(\"Mean R2 score across all folds:\", scores.mean())"
      ],
      "metadata": {
        "colab": {
          "base_uri": "https://localhost:8080/"
        },
        "id": "9Sg8p5vCetRO",
        "outputId": "b3c10c17-d048-4597-9900-13c3f099c69e"
      },
      "execution_count": 83,
      "outputs": [
        {
          "output_type": "stream",
          "name": "stdout",
          "text": [
            "R2 scores for each fold: [0.95455631 0.89322268 0.89389457 0.93007946 0.94490525 0.95089981\n",
            " 0.94185539 0.77648549 0.88707546 0.94779043]\n",
            "Mean R2 score across all folds: 0.9120764842166226\n"
          ]
        }
      ]
    },
    {
      "cell_type": "markdown",
      "source": [
        "Implementing Stratified K-fold cross validation"
      ],
      "metadata": {
        "id": "D5EzmXCTe_js"
      }
    },
    {
      "cell_type": "code",
      "source": [
        "from sklearn.datasets import load_iris\n",
        "from sklearn.model_selection import StratifiedKFold, cross_val_score\n",
        "from sklearn.linear_model import LogisticRegression\n",
        "# Load digits dataset\n",
        "from sklearn.datasets import load_digits\n",
        "digits = load_digits()\n",
        "X, y = digits.data, digits.target\n",
        "# Create a Logistic Regression model\n",
        "model = LogisticRegression(max_iter=10000, random_state=42)\n",
        "# Create StratifiedKFold object\n",
        "skf = StratifiedKFold(n_splits=5, random_state=42, shuffle=True)\n",
        "# Perform stratified cross validation\n",
        "scores = cross_val_score(model, X, y, cv=skf, scoring='accuracy')\n",
        "# Print the accuracy for each fold\n",
        "\n",
        "print(\"Accuracies for each fold: \", scores)\n",
        "print(\"Mean accuracy across all folds: \", scores.mean())"
      ],
      "metadata": {
        "colab": {
          "base_uri": "https://localhost:8080/"
        },
        "id": "s80Wcq-ne_Bz",
        "outputId": "92e837ab-0418-4272-e38a-f9a705bd8050"
      },
      "execution_count": 84,
      "outputs": [
        {
          "output_type": "stream",
          "name": "stdout",
          "text": [
            "Accuracies for each fold:  [0.96666667 0.96388889 0.97771588 0.9637883  0.96657382]\n",
            "Mean accuracy across all folds:  0.967726709996905\n"
          ]
        }
      ]
    },
    {
      "cell_type": "code",
      "source": [],
      "metadata": {
        "id": "l8DD5hesfiKa"
      },
      "execution_count": null,
      "outputs": []
    }
  ]
}